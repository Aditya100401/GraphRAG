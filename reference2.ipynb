{
 "cells": [
  {
   "cell_type": "code",
   "execution_count": 9,
   "metadata": {},
   "outputs": [
    {
     "data": {
      "text/plain": [
       "True"
      ]
     },
     "execution_count": 9,
     "metadata": {},
     "output_type": "execute_result"
    }
   ],
   "source": [
    "import pandas as pd\n",
    "import networkx as nx\n",
    "import matplotlib.pyplot as plt\n",
    "from io import StringIO\n",
    "import random \n",
    "import pickle\n",
    "import os\n",
    "from dotenv import load_dotenv\n",
    "\n",
    "load_dotenv()\n"
   ]
  },
  {
   "cell_type": "code",
   "execution_count": 3,
   "metadata": {},
   "outputs": [],
   "source": [
    "# Loading graph after summary generation\n",
    "with open('graph.pkl', 'rb') as f:\n",
    "    G = pickle.load(f)"
   ]
  },
  {
   "cell_type": "code",
   "execution_count": null,
   "metadata": {},
   "outputs": [],
   "source": []
  },
  {
   "cell_type": "code",
   "execution_count": 16,
   "metadata": {},
   "outputs": [],
   "source": [
    "import requests\n",
    "import json\n",
    "import datetime\n",
    "from groq import Groq\n",
    "\n",
    "client = Groq(api_key=os.getenv(\"GROQ_API_KEY\"))\n",
    "\n",
    "# Function to get relevant events before a specific date\n",
    "def get_events_before_date(actor, recipient, date):\n",
    "    date = datetime.datetime.strptime(date, \"%Y-%m-%d\")\n",
    "    relevant_events = []\n",
    "\n",
    "    # Iterate through nodes in the graph\n",
    "    for node, attributes in G.nodes(data=True):\n",
    "        if \"event_date\" in attributes:\n",
    "            event_date = datetime.datetime.strptime(attributes[\"event_date\"], \"%Y-%m-%d\")\n",
    "            if event_date < date:\n",
    "                # Check if actor or recipient is involved\n",
    "                for neighbor in G.neighbors(node):\n",
    "                    if neighbor == actor or neighbor == recipient:\n",
    "                        relevant_events.append({\n",
    "                            \"event_node\": node,\n",
    "                            \"event_date\": attributes.get(\"event_date\"),\n",
    "                            \"event_type\": attributes.get(\"event_type\"),\n",
    "                            \"quad_code\": attributes.get(\"quad_code\"),\n",
    "                            \"contexts\": attributes.get(\"contexts\"),\n",
    "                            \"summary\": attributes.get(\"summary\"),\n",
    "                            \"relation_with\": neighbor,\n",
    "                        })\n",
    "\n",
    "    return relevant_events\n",
    "\n",
    "# Function to interact with the Groq API\n",
    "def query_groq(prompt):\n",
    "\n",
    "    groq_input = (prompt)\n",
    "    try:\n",
    "        # Call the Groq API to generate a summary\n",
    "        chat_completion = client.chat.completions.create(\n",
    "            messages=[{\"role\": \"user\", \"content\": groq_input}],\n",
    "            model=\"llama3-8b-8192\",\n",
    "        )\n",
    "\n",
    "        return chat_completion.choices[0].message.content\n",
    "    except Exception as e:\n",
    "        print(f\"Error querying Groq API: {e}\")\n",
    "        return None\n",
    "\n",
    "# Main function to predict relations\n",
    "def predict_relations_with_llm(actor, recipient, date):\n",
    "    # Step 1: Gather relevant events\n",
    "    events = get_events_before_date(actor, recipient, date)\n",
    "\n",
    "    if not events:\n",
    "        print(f\"No relevant events found for {actor} and {recipient} before {date}.\")\n",
    "        return\n",
    "\n",
    "    # Step 2: Prepare a structured prompt for the LLM\n",
    "    event_details = \"\\n\".join(\n",
    "        [\n",
    "            f\"Event Node: {event['event_node']}, Date: {event['event_date']}, Event Type: {event['event_type']}, \"\n",
    "            f\"Quad Code: {event['quad_code']}, Contexts: {event['contexts']}, Summary: {event['summary']}, \"\n",
    "            f\"Relation with: {event['relation_with']}\"\n",
    "            for event in events\n",
    "        ]\n",
    "    )\n",
    "\n",
    "    prompt = f\"\"\"\n",
    "You are a knowledge graph analysis expert. Based on the following event data, predict the top 3 possible relations between the actor '{actor}' and the recipient '{recipient}' before the date '{date}'.\n",
    "\n",
    "Event Details:\n",
    "{event_details}\n",
    "\n",
    "Consider the summaries, event type, quad code, and context. Provide your top 3 ranked predictions for the potential relation between the entities ONLY FROM: ASSAULT, AID, ACCUSE, REQUEST, PROTEST, COERCE, RETREAT, MOBILIZE, SANCTION, THREATEN AND GIVE REASONING\n",
    "    \"\"\"\n",
    "\n",
    "    # Step 3: Query the Groq API\n",
    "    print(\"\\nQuerying Groq API for predictions...\\n\")\n",
    "    prediction = query_groq(prompt)\n",
    "\n",
    "    # Step 4: Output the results\n",
    "    if prediction:\n",
    "        print(f\"Predicted Relations:\\n{prediction}\")\n",
    "    else:\n",
    "        print(\"Failed to retrieve predictions from the Groq API.\")\n",
    "\n"
   ]
  },
  {
   "cell_type": "code",
   "execution_count": 17,
   "metadata": {},
   "outputs": [
    {
     "name": "stdout",
     "output_type": "stream",
     "text": [
      "\n",
      "Querying Groq API for predictions...\n",
      "\n",
      "Predicted Relations:\n",
      "Based on the event data and summaries, I predict the top 3 possible relations between the actor 'Narendra Modi' and the recipient 'Congee' before the date '2024-12-01' as follows:\n",
      "\n",
      "1. **AID**: There is no specific event mentioning Congee in the provided data. However, considering Narendra Modi's involvement in a verbal conflict with different political entities on May 26, 2024 (E9, E52, E88), it's possible that he might have used his influence to provide aid to a faction or group that shares similar political views, including those who might be involved in protests or demonstrations. However, this prediction is speculative, and I base it on the assumption that Narendra Modi's involvement in verbal conflicts could potentially lead to his support for a particular group or faction.\n",
      "\n",
      "2. **PROTEST**: Although there is no direct event mentioning Congee in the provided data, Narendra Modi's involvement in a protest-turned-violent-conflict (E9) or a verbal confrontation (E52, E88) on May 26, 2024, could potentially lead to his involvement in future protests or demonstrations. As Modi faces opposition and criticism from various political parties, it's possible that his supporters might stage protests or demonstrations in his support or against his political opponents. Given the involvement of Congee in verbal conflicts with Modi's opponents, I predict a possible relation between Narendra Modi and Congee in the context of protests or demonstrations.\n",
      "\n",
      "3. **ACCUSE**: Considering Narendra Modi's involvement in verbal conflicts (E1, E52, E88) and his accusations towards his political opponents, it's possible that he might accuse Congee or its supporters of being involved in anti-government activities or riots. This prediction is speculative, but it's based on Modi's history of accusing his opponents of various charges and his involvement in verbal conflicts.\n",
      "\n",
      "In summary, my top 3 predictions for the potential relation between Narendra Modi and Congee before the date '2024-12-01' are AID, PROTEST, and ACCUSE. These predictions are based on the assumption that Narendra Modi's involvement in verbal conflicts could potentially lead to his involvement in future support or opposition to factions or groups, including those that might be involved in protests or demonstrations.\n"
     ]
    }
   ],
   "source": [
    "predict_relations_with_llm(\"Narendra Modi\", \"Congee\", \"2024-12-01\")\n"
   ]
  },
  {
   "cell_type": "code",
   "execution_count": null,
   "metadata": {},
   "outputs": [],
   "source": []
  },
  {
   "cell_type": "code",
   "execution_count": null,
   "metadata": {},
   "outputs": [],
   "source": []
  },
  {
   "cell_type": "code",
   "execution_count": null,
   "metadata": {},
   "outputs": [],
   "source": []
  },
  {
   "cell_type": "code",
   "execution_count": null,
   "metadata": {},
   "outputs": [],
   "source": []
  },
  {
   "cell_type": "code",
   "execution_count": null,
   "metadata": {},
   "outputs": [],
   "source": []
  }
 ],
 "metadata": {
  "kernelspec": {
   "display_name": "Python 3",
   "language": "python",
   "name": "python3"
  },
  "language_info": {
   "codemirror_mode": {
    "name": "ipython",
    "version": 3
   },
   "file_extension": ".py",
   "mimetype": "text/x-python",
   "name": "python",
   "nbconvert_exporter": "python",
   "pygments_lexer": "ipython3",
   "version": "3.12.3"
  }
 },
 "nbformat": 4,
 "nbformat_minor": 2
}
