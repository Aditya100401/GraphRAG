{
 "cells": [
  {
   "cell_type": "markdown",
   "metadata": {},
   "source": [
    "CREATING ENTIRE GRAPH WITH ATTRIBUTES FROM TRAINING DATA CSV"
   ]
  },
  {
   "cell_type": "markdown",
   "metadata": {},
   "source": [
    "### IMPORT STATEMENTS"
   ]
  },
  {
   "cell_type": "code",
   "execution_count": 1,
   "metadata": {},
   "outputs": [
    {
     "data": {
      "text/plain": [
       "True"
      ]
     },
     "execution_count": 1,
     "metadata": {},
     "output_type": "execute_result"
    }
   ],
   "source": [
    "import pandas as pd\n",
    "import networkx as nx\n",
    "import matplotlib.pyplot as plt\n",
    "from io import StringIO\n",
    "import random \n",
    "import pickle\n",
    "import os\n",
    "from dotenv import load_dotenv\n",
    "\n",
    "load_dotenv()"
   ]
  },
  {
   "cell_type": "markdown",
   "metadata": {},
   "source": [
    "### GRAPH CREATION"
   ]
  },
  {
   "cell_type": "code",
   "execution_count": 2,
   "metadata": {},
   "outputs": [
    {
     "name": "stdout",
     "output_type": "stream",
     "text": [
      "                                     Event ID  Event Date Event Type  \\\n",
      "0          20240322-8146-07451ba739d6_CONCEDE  2024-03-22    CONCEDE   \n",
      "1  20240322-3055-05b4f08fd688_MOBILIZE_police  2024-03-22   MOBILIZE   \n",
      "2     20240326-7347-a0f35a46adea_PROTEST_demo  2024-03-26    PROTEST   \n",
      "3     20240327-6458-32d2a90b8883_PROTEST_demo  2024-03-27    PROTEST   \n",
      "4           20240401-5055-9674f90e4f73_ACCUSE  2024-04-01     ACCUSE   \n",
      "\n",
      "  Event Mode  Event Intensity           Quad Code   Contexts       Actor Name  \\\n",
      "0        NaN              4.5  VERBAL COOPERATION  election   Aam Aadmi Party   \n",
      "1     police             -5.5   MATERIAL CONFLICT        NaN  Aam Aadmi Party   \n",
      "2       demo             -5.0   MATERIAL CONFLICT        NaN  Aam Aadmi Party   \n",
      "3       demo             -5.0   MATERIAL CONFLICT        NaN  Aam Aadmi Party   \n",
      "4        NaN             -3.0     VERBAL CONFLICT        NaN  Aam Aadmi Party   \n",
      "\n",
      "  Actor Country Actor COW  ... GeoNames ID  \\\n",
      "0         India       750  ...         NaN   \n",
      "1         India       750  ...         NaN   \n",
      "2         India       750  ...         NaN   \n",
      "3         India       750  ...         NaN   \n",
      "4         India       750  ...         NaN   \n",
      "\n",
      "                             Raw Placename Feature Type           Source  \\\n",
      "0                  Enforcement Directorate          NaN  Hindustan Times   \n",
      "1                            central Delhi          NaN  Hindustan Times   \n",
      "2  Patel Chowk metro station; PM residence          NaN  Hindustan Times   \n",
      "3                           Delhi assembly          NaN  Hindustan Times   \n",
      "4              Delhi 's Rouse Avenue court          NaN  Hindustan Times   \n",
      "\n",
      "  Publication Date                                       Story People  \\\n",
      "0       2024-03-22               Atishi | Arvind Kejriwal | Kejriwal    \n",
      "1       2024-03-22                                   Arvind Kejriwal    \n",
      "2       2024-03-26  Arvind Kejriwal | Devesh Kumar Mahla | Narendr...   \n",
      "3       2024-03-27  Kejriwal | Narendra Modi | Saurabh Bharadwaj |...   \n",
      "4       2024-04-01    Arvind Kejriwal | Kaveri Baweja | Hemant Soren    \n",
      "\n",
      "                                 Story Organizations  \\\n",
      "0  Enforcement Directorate | Bharatiya Janata Par...   \n",
      "1  Bharatiya Janata Party | the Delhi Police | th...   \n",
      "2  the Delhi Police | PTI | ANI | The Delhi Polic...   \n",
      "3                     AAP | Aam Aadmi Party | Union    \n",
      "4  Enforcement Directorate | Aam Aadmi Party | Th...   \n",
      "\n",
      "                                     Story Locations Language  \\\n",
      "0                         Republic of India | Delhi   English   \n",
      "1  United Arab Emirates | Ireland | Repubblica di...  English   \n",
      "2   New Delhi | National Capital Territory of Delhi   English   \n",
      "3                                      Dili | Delhi   English   \n",
      "4  State of Jhārkhand | Republic of Madagascar | ...  English   \n",
      "\n",
      "                         Version  \n",
      "0  NGEC_coder-Vers001-b1-Run-001  \n",
      "1  NGEC_coder-Vers001-b1-Run-001  \n",
      "2  NGEC_coder-Vers001-b1-Run-001  \n",
      "3  NGEC_coder-Vers001-b1-Run-001  \n",
      "4  NGEC_coder-Vers001-b1-Run-001  \n",
      "\n",
      "[5 rows x 40 columns]\n"
     ]
    }
   ],
   "source": [
    "# Read the CSV file into a DataFrame\n",
    "train_df = pd.read_csv('train_data_new3.csv')\n",
    "print(train_df.head())\n"
   ]
  },
  {
   "cell_type": "code",
   "execution_count": 3,
   "metadata": {},
   "outputs": [],
   "source": [
    "G = nx.Graph()\n",
    "# Function to add nodes and edges\n",
    "def add_event_to_graph(row):\n",
    "\n",
    "    # Date\n",
    "    date = row['Event Date']\n",
    "    G.add_node(date)\n",
    "\n",
    "    # Event attributes\n",
    "    event_id = row['Event ID']\n",
    "    event_date = row['Event Date']\n",
    "    event_type = row['Event Type']\n",
    "    event_intensity = row['Event Intensity']\n",
    "    quad_code = row['Quad Code']\n",
    "    contexts = row['Contexts']\n",
    "    \n",
    "    #Other attributes\n",
    "\n",
    "    #Event Type Node \n",
    "    G.add_node(event_type)\n",
    "\n",
    "    # Create an event node\n",
    "    G.add_node(event_id, event_date=event_date, event_type=event_type,event_intensity=event_intensity,quad_code=quad_code,contexts=contexts)\n",
    "\n",
    "    # Add actor nodes with attributes\n",
    "    actor = row['Actor Name']\n",
    "    if actor == '':\n",
    "        actor=row['Actor Country']\n",
    "    G.add_node(actor, country=row['Actor Country'],cow=row['Actor COW'], primary_sector=row['Primary Actor Sector'],sectors=row['Actor Sectors'],title=row['Actor Title'],id=row['Wikipedia Actor ID'], actor_type='actor') \n",
    "\n",
    "    # Add recipient nodes with attributes\n",
    "    recipient = row['Recipient Name'] \n",
    "    G.add_node(recipient, country=row['Recipient Country'], cow=row['Recipient COW'], primary_sector=row['Primary Recipient Sector'],sectors=row['Recipient Sectors'],title=row['Recipient Title'],id=row['Wikipedia Recipient ID'],actor_type='recipient')\n",
    "\n",
    "    #Location node\n",
    "    place = row['Raw Placename']\n",
    "    G.add_node(place,city=row['City'],district=row['District'],province=row['Province'],latitude=row['Latitude'],longitude=row['Longitude'],geoid=row['GeoNames ID'],raw=row['Raw Placename'])\n",
    "\n",
    "    # Add information source node\n",
    "    info_source = row['Source']\n",
    "    G.add_node(info_source, publication_date=row['Publication Date'],feature=row['Feature Type'], date=row['Publication Date'],people=row['Story People'],organization=row['Story Organizations'],location=row['Story Locations'],language=row['Language'], type='source')\n",
    "\n",
    "    # Add edges between nodes\n",
    "    G.add_edge(event_id,event_type,relation='type')\n",
    "    G.add_edge(event_id,date,relation='date')\n",
    "    G.add_edge(event_id, actor, relation='actor')\n",
    "    G.add_edge(event_id, recipient, relation='recipient')\n",
    "    G.add_edge(event_id, place, relation='location')\n",
    "    G.add_edge(event_id, info_source, relation='source')\n",
    "\n",
    "# Iterate over each row to build the graph\n",
    "for index, row in train_df.iterrows():\n",
    "    add_event_to_graph(row)"
   ]
  },
  {
   "cell_type": "code",
   "execution_count": 4,
   "metadata": {},
   "outputs": [],
   "source": [
    "# Save the graph using pickle\n",
    "with open('new_graph3.pkl', 'wb') as f:\n",
    "    pickle.dump(G, f)"
   ]
  },
  {
   "cell_type": "code",
   "execution_count": null,
   "metadata": {},
   "outputs": [],
   "source": [
    "with open('new_graph.pkl', 'rb') as f:\n",
    "    G = pickle.load(f)"
   ]
  }
 ],
 "metadata": {
  "kernelspec": {
   "display_name": "Python 3",
   "language": "python",
   "name": "python3"
  },
  "language_info": {
   "codemirror_mode": {
    "name": "ipython",
    "version": 3
   },
   "file_extension": ".py",
   "mimetype": "text/x-python",
   "name": "python",
   "nbconvert_exporter": "python",
   "pygments_lexer": "ipython3",
   "version": "3.12.3"
  }
 },
 "nbformat": 4,
 "nbformat_minor": 2
}
