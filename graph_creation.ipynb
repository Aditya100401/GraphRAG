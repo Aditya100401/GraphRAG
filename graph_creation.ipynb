{
 "cells": [
  {
   "cell_type": "markdown",
   "metadata": {},
   "source": [
    "CREATING ENTIRE GRAPH WITH ATTRIBUTES FROM TRAINING DATA CSV"
   ]
  },
  {
   "cell_type": "markdown",
   "metadata": {},
   "source": [
    "### IMPORT STATEMENTS"
   ]
  },
  {
   "cell_type": "code",
   "execution_count": 2,
   "metadata": {},
   "outputs": [
    {
     "data": {
      "text/plain": [
       "True"
      ]
     },
     "execution_count": 2,
     "metadata": {},
     "output_type": "execute_result"
    }
   ],
   "source": [
    "import pandas as pd\n",
    "import networkx as nx\n",
    "import matplotlib.pyplot as plt\n",
    "from io import StringIO\n",
    "import random \n",
    "import pickle\n",
    "import os\n",
    "from dotenv import load_dotenv\n",
    "\n",
    "load_dotenv()"
   ]
  },
  {
   "cell_type": "markdown",
   "metadata": {},
   "source": [
    "### GRAPH CREATION"
   ]
  },
  {
   "cell_type": "code",
   "execution_count": 4,
   "metadata": {},
   "outputs": [
    {
     "name": "stdout",
     "output_type": "stream",
     "text": [
      "                                        Event ID  Event Date Event Type  \\\n",
      "0  20231231-1075-cb07b4c0139b_THREATEN_territory  2023-12-31   THREATEN   \n",
      "1            20240102-2349-3b800104f953_SANCTION  2024-01-02   SANCTION   \n",
      "2             20240118-9689-3e8dc91f684d_REQUEST  2024-01-18    REQUEST   \n",
      "3            20240121-9346-c2f7b7626d1a_THREATEN  2024-01-21   THREATEN   \n",
      "4            20240121-9943-c2f7b7626d1a_THREATEN  2024-01-21   THREATEN   \n",
      "\n",
      "  Event Mode  Event Intensity          Quad Code               Contexts  \\\n",
      "0  territory             -4.0    VERBAL CONFLICT  military | terrorism    \n",
      "1        NaN             -6.0  MATERIAL CONFLICT             terrorism    \n",
      "2        NaN              0.0    VERBAL CONFLICT  military | terrorism    \n",
      "3        NaN             -3.5    VERBAL CONFLICT             terrorism    \n",
      "4        NaN             -3.5    VERBAL CONFLICT             terrorism    \n",
      "\n",
      "           Actor Name Actor Country  Actor COW  ... GeoNames ID Raw Placename  \\\n",
      "0  Benjamin Netanyahu        Israel      666.0  ...    281124.0   Khan Younis   \n",
      "1  Benjamin Netanyahu        Israel      666.0  ...         NaN          Gaza   \n",
      "2  Benjamin Netanyahu        Israel      666.0  ...    293397.0      Tel Aviv   \n",
      "3  Benjamin Netanyahu        Israel      666.0  ...         NaN       Israeli   \n",
      "4  Benjamin Netanyahu        Israel      666.0  ...         NaN       Israeli   \n",
      "\n",
      "  Feature Type              Source Publication Date  \\\n",
      "0        PPLA2          DW English       2023-12-31   \n",
      "1          NaN        Reuters News       2024-01-02   \n",
      "2         PPLA  Xinhua News Agency       2024-01-18   \n",
      "3          NaN        Reuters News       2024-01-21   \n",
      "4          NaN        Reuters News       2024-01-21   \n",
      "\n",
      "                                        Story People  \\\n",
      "0  Daniel Hagari | Benjamin Netanyahu | Yehya Sin...   \n",
      "1                                Benjamin Netanyahu    \n",
      "2                    Benjamin Netanyahu | Netanyahu    \n",
      "3        Joe Biden | Benjamin Netanyahu | Netanyahu    \n",
      "4        Joe Biden | Benjamin Netanyahu | Netanyahu    \n",
      "\n",
      "                        Story Organizations  \\\n",
      "0  IDF | The Israel Defense Forces | Hamas    \n",
      "1                                    Hamas    \n",
      "2                                    Hamas    \n",
      "3                                    Hamas    \n",
      "4                                    Hamas    \n",
      "\n",
      "                                     Story Locations Language  \\\n",
      "0  Khān Yūnis | United States | Republic of Yemen...  English   \n",
      "1                                        Gaza Strip   English   \n",
      "2           Tel Aviv | State of Israel | Gaza Strip   English   \n",
      "3  United States | State of Qatar | Arab Republic...  English   \n",
      "4  United States | State of Qatar | Arab Republic...  English   \n",
      "\n",
      "                         Version  \n",
      "0  NGEC_coder-Vers001-b1-Run-001  \n",
      "1  NGEC_coder-Vers001-b1-Run-001  \n",
      "2  NGEC_coder-Vers001-b1-Run-001  \n",
      "3  NGEC_coder-Vers001-b1-Run-001  \n",
      "4  NGEC_coder-Vers001-b1-Run-001  \n",
      "\n",
      "[5 rows x 40 columns]\n"
     ]
    }
   ],
   "source": [
    "# Read the CSV file into a DataFrame\n",
    "train_df = pd.read_csv('train_data.csv')\n",
    "print(train_df.head())\n"
   ]
  },
  {
   "cell_type": "code",
   "execution_count": 6,
   "metadata": {},
   "outputs": [],
   "source": [
    "G = nx.Graph()\n",
    "# Function to add nodes and edges\n",
    "def add_event_to_graph(row):\n",
    "\n",
    "    # Date\n",
    "    date = row['Event Date']\n",
    "    G.add_node(date)\n",
    "\n",
    "    # Event attributes\n",
    "    event_id = row['Event ID']\n",
    "    event_date = row['Event Date']\n",
    "    event_type = row['Event Type']\n",
    "    event_intensity = row['Event Intensity']\n",
    "    quad_code = row['Quad Code']\n",
    "    contexts = row['Contexts']\n",
    "    \n",
    "    #Other attributes\n",
    "\n",
    "    #Event Type Node \n",
    "    G.add_node(event_type)\n",
    "\n",
    "    # Create an event node\n",
    "    G.add_node(event_id, event_date=event_date, event_type=event_type,event_intensity=event_intensity,quad_code=quad_code,contexts=contexts)\n",
    "\n",
    "    # Add actor nodes with attributes\n",
    "    actor = row['Actor Name']\n",
    "    if actor == '':\n",
    "        actor=row['Actor Country']\n",
    "    G.add_node(actor, country=row['Actor Country'],cow=row['Actor COW'], primary_sector=row['Primary Actor Sector'],sectors=row['Actor Sectors'],title=row['Actor Title'],id=row['Wikipedia Actor ID'], actor_type='actor') \n",
    "\n",
    "    # Add recipient nodes with attributes\n",
    "    recipient = row['Recipient Name'] \n",
    "    G.add_node(recipient, country=row['Recipient Country'], cow=row['Recipient COW'], primary_sector=row['Primary Recipient Sector'],sectors=row['Recipient Sectors'],title=row['Recipient Title'],id=row['Wikipedia Recipient ID'],actor_type='recipient')\n",
    "\n",
    "    #Location node\n",
    "    place = row['Raw Placename']\n",
    "    G.add_node(place,city=row['City'],district=row['District'],province=row['Province'],latitude=row['Latitude'],longitude=row['Longitude'],geoid=row['GeoNames ID'],raw=row['Raw Placename'])\n",
    "\n",
    "    # Add information source node\n",
    "    info_source = row['Source']\n",
    "    G.add_node(info_source, publication_date=row['Publication Date'],feature=row['Feature Type'], date=row['Publication Date'],people=row['Story People'],organization=row['Story Organizations'],location=row['Story Locations'],language=row['Language'], type='source')\n",
    "\n",
    "    # Add edges between nodes\n",
    "    G.add_edge(event_id,event_type,relation='type')\n",
    "    G.add_edge(event_id,date,relation='date')\n",
    "    G.add_edge(event_id, actor, relation='actor')\n",
    "    G.add_edge(event_id, recipient, relation='recipient')\n",
    "    G.add_edge(event_id, place, relation='location')\n",
    "    G.add_edge(event_id, info_source, relation='source')\n",
    "\n",
    "# Iterate over each row to build the graph\n",
    "for index, row in train_df.iterrows():\n",
    "    add_event_to_graph(row)"
   ]
  },
  {
   "cell_type": "code",
   "execution_count": 9,
   "metadata": {},
   "outputs": [],
   "source": [
    "# Save the graph using pickle\n",
    "with open('new_graph.pkl', 'wb') as f:\n",
    "    pickle.dump(G, f)"
   ]
  },
  {
   "cell_type": "code",
   "execution_count": 10,
   "metadata": {},
   "outputs": [],
   "source": [
    "with open('new_graph.pkl', 'rb') as f:\n",
    "    G = pickle.load(f)"
   ]
  }
 ],
 "metadata": {
  "kernelspec": {
   "display_name": "Python 3",
   "language": "python",
   "name": "python3"
  },
  "language_info": {
   "codemirror_mode": {
    "name": "ipython",
    "version": 3
   },
   "file_extension": ".py",
   "mimetype": "text/x-python",
   "name": "python",
   "nbconvert_exporter": "python",
   "pygments_lexer": "ipython3",
   "version": "3.12.3"
  }
 },
 "nbformat": 4,
 "nbformat_minor": 2
}
