{
 "cells": [
  {
   "cell_type": "markdown",
   "metadata": {},
   "source": [
    "READING ORIGINAL DATASET AND EXTRACTING ALL RELATION PAIRS WITH 20+ FREQUENCY\n",
    "SPLITTING INTO TRAINING AND TESTING DATA"
   ]
  },
  {
   "cell_type": "markdown",
   "metadata": {},
   "source": [
    "### IMPORT STATEMENT"
   ]
  },
  {
   "cell_type": "code",
   "execution_count": 1,
   "metadata": {},
   "outputs": [
    {
     "data": {
      "text/plain": [
       "True"
      ]
     },
     "execution_count": 1,
     "metadata": {},
     "output_type": "execute_result"
    }
   ],
   "source": [
    "import pandas as pd\n",
    "import networkx as nx\n",
    "import matplotlib.pyplot as plt\n",
    "from io import StringIO\n",
    "import random \n",
    "import pickle\n",
    "import os\n",
    "from dotenv import load_dotenv\n",
    "\n",
    "load_dotenv()"
   ]
  },
  {
   "cell_type": "code",
   "execution_count": 2,
   "metadata": {},
   "outputs": [
    {
     "name": "stdout",
     "output_type": "stream",
     "text": [
      "Requirement already satisfied: scipy in /Library/Frameworks/Python.framework/Versions/3.12/lib/python3.12/site-packages (1.14.1)\n",
      "Requirement already satisfied: numpy<2.3,>=1.23.5 in /Library/Frameworks/Python.framework/Versions/3.12/lib/python3.12/site-packages (from scipy) (1.26.4)\n",
      "\n",
      "\u001b[1m[\u001b[0m\u001b[34;49mnotice\u001b[0m\u001b[1;39;49m]\u001b[0m\u001b[39;49m A new release of pip is available: \u001b[0m\u001b[31;49m24.2\u001b[0m\u001b[39;49m -> \u001b[0m\u001b[32;49m25.0.1\u001b[0m\n",
      "\u001b[1m[\u001b[0m\u001b[34;49mnotice\u001b[0m\u001b[1;39;49m]\u001b[0m\u001b[39;49m To update, run: \u001b[0m\u001b[32;49mpip3 install --upgrade pip\u001b[0m\n",
      "Note: you may need to restart the kernel to use updated packages.\n"
     ]
    }
   ],
   "source": [
    "%pip install scipy"
   ]
  },
  {
   "cell_type": "markdown",
   "metadata": {},
   "source": [
    "### FINDING MORE FREQUENT RELATIONS"
   ]
  },
  {
   "cell_type": "code",
   "execution_count": 3,
   "metadata": {},
   "outputs": [
    {
     "ename": "FileNotFoundError",
     "evalue": "[Errno 2] No such file or directory: 'data_original.txt'",
     "output_type": "error",
     "traceback": [
      "\u001b[0;31m---------------------------------------------------------------------------\u001b[0m",
      "\u001b[0;31mFileNotFoundError\u001b[0m                         Traceback (most recent call last)",
      "Cell \u001b[0;32mIn[3], line 63\u001b[0m\n\u001b[1;32m     60\u001b[0m file_path \u001b[38;5;241m=\u001b[39m \u001b[38;5;124m\"\u001b[39m\u001b[38;5;124mdata_original.txt\u001b[39m\u001b[38;5;124m\"\u001b[39m\n\u001b[1;32m     62\u001b[0m \u001b[38;5;66;03m# Load the data into a DataFrame\u001b[39;00m\n\u001b[0;32m---> 63\u001b[0m df \u001b[38;5;241m=\u001b[39m \u001b[43mload_data\u001b[49m\u001b[43m(\u001b[49m\u001b[43mfile_path\u001b[49m\u001b[43m)\u001b[49m\n\u001b[1;32m     65\u001b[0m \u001b[38;5;66;03m# Get the most frequent actor-recipient pairs\u001b[39;00m\n\u001b[1;32m     66\u001b[0m most_frequent_relations \u001b[38;5;241m=\u001b[39m get_most_frequent_relations(df)\n",
      "Cell \u001b[0;32mIn[3], line 13\u001b[0m, in \u001b[0;36mload_data\u001b[0;34m(file_path)\u001b[0m\n\u001b[1;32m      5\u001b[0m \u001b[38;5;28;01mdef\u001b[39;00m \u001b[38;5;21mload_data\u001b[39m(file_path):\n\u001b[1;32m      6\u001b[0m \u001b[38;5;250m    \u001b[39m\u001b[38;5;124;03m\"\"\"\u001b[39;00m\n\u001b[1;32m      7\u001b[0m \u001b[38;5;124;03m    Reads a tab-delimited text file and loads it into a pandas DataFrame.\u001b[39;00m\n\u001b[1;32m      8\u001b[0m \u001b[38;5;124;03m    Args:\u001b[39;00m\n\u001b[0;32m   (...)\u001b[0m\n\u001b[1;32m     11\u001b[0m \u001b[38;5;124;03m        pd.DataFrame: A pandas DataFrame with the event data.\u001b[39;00m\n\u001b[1;32m     12\u001b[0m \u001b[38;5;124;03m    \"\"\"\u001b[39;00m\n\u001b[0;32m---> 13\u001b[0m     \u001b[38;5;28;01mwith\u001b[39;00m \u001b[38;5;28;43mopen\u001b[39;49m\u001b[43m(\u001b[49m\u001b[43mfile_path\u001b[49m\u001b[43m,\u001b[49m\u001b[43m \u001b[49m\u001b[38;5;124;43m'\u001b[39;49m\u001b[38;5;124;43mr\u001b[39;49m\u001b[38;5;124;43m'\u001b[39;49m\u001b[43m)\u001b[49m \u001b[38;5;28;01mas\u001b[39;00m file:\n\u001b[1;32m     14\u001b[0m         \u001b[38;5;66;03m# Read all lines from the file\u001b[39;00m\n\u001b[1;32m     15\u001b[0m         lines \u001b[38;5;241m=\u001b[39m file\u001b[38;5;241m.\u001b[39mreadlines()\n\u001b[1;32m     17\u001b[0m     \u001b[38;5;66;03m# Split lines into columns using tab as the delimiter\u001b[39;00m\n",
      "File \u001b[0;32m~/Library/Python/3.12/lib/python/site-packages/IPython/core/interactiveshell.py:324\u001b[0m, in \u001b[0;36m_modified_open\u001b[0;34m(file, *args, **kwargs)\u001b[0m\n\u001b[1;32m    317\u001b[0m \u001b[38;5;28;01mif\u001b[39;00m file \u001b[38;5;129;01min\u001b[39;00m {\u001b[38;5;241m0\u001b[39m, \u001b[38;5;241m1\u001b[39m, \u001b[38;5;241m2\u001b[39m}:\n\u001b[1;32m    318\u001b[0m     \u001b[38;5;28;01mraise\u001b[39;00m \u001b[38;5;167;01mValueError\u001b[39;00m(\n\u001b[1;32m    319\u001b[0m         \u001b[38;5;124mf\u001b[39m\u001b[38;5;124m\"\u001b[39m\u001b[38;5;124mIPython won\u001b[39m\u001b[38;5;124m'\u001b[39m\u001b[38;5;124mt let you open fd=\u001b[39m\u001b[38;5;132;01m{\u001b[39;00mfile\u001b[38;5;132;01m}\u001b[39;00m\u001b[38;5;124m by default \u001b[39m\u001b[38;5;124m\"\u001b[39m\n\u001b[1;32m    320\u001b[0m         \u001b[38;5;124m\"\u001b[39m\u001b[38;5;124mas it is likely to crash IPython. If you know what you are doing, \u001b[39m\u001b[38;5;124m\"\u001b[39m\n\u001b[1;32m    321\u001b[0m         \u001b[38;5;124m\"\u001b[39m\u001b[38;5;124myou can use builtins\u001b[39m\u001b[38;5;124m'\u001b[39m\u001b[38;5;124m open.\u001b[39m\u001b[38;5;124m\"\u001b[39m\n\u001b[1;32m    322\u001b[0m     )\n\u001b[0;32m--> 324\u001b[0m \u001b[38;5;28;01mreturn\u001b[39;00m \u001b[43mio_open\u001b[49m\u001b[43m(\u001b[49m\u001b[43mfile\u001b[49m\u001b[43m,\u001b[49m\u001b[43m \u001b[49m\u001b[38;5;241;43m*\u001b[39;49m\u001b[43margs\u001b[49m\u001b[43m,\u001b[49m\u001b[43m \u001b[49m\u001b[38;5;241;43m*\u001b[39;49m\u001b[38;5;241;43m*\u001b[39;49m\u001b[43mkwargs\u001b[49m\u001b[43m)\u001b[49m\n",
      "\u001b[0;31mFileNotFoundError\u001b[0m: [Errno 2] No such file or directory: 'data_original.txt'"
     ]
    }
   ],
   "source": [
    "import pandas as pd\n",
    "from collections import Counter\n",
    "\n",
    "# Load data from a text file\n",
    "def load_data(file_path):\n",
    "    \"\"\"\n",
    "    Reads a tab-delimited text file and loads it into a pandas DataFrame.\n",
    "    Args:\n",
    "        file_path (str): Path to the text file containing event data.\n",
    "    Returns:\n",
    "        pd.DataFrame: A pandas DataFrame with the event data.\n",
    "    \"\"\"\n",
    "    with open(file_path, 'r') as file:\n",
    "        # Read all lines from the file\n",
    "        lines = file.readlines()\n",
    "    \n",
    "    # Split lines into columns using tab as the delimiter\n",
    "    data = [line.strip().split(\"\\t\") for line in lines]\n",
    "    \n",
    "    # Create a DataFrame using the first row as headers\n",
    "    return pd.DataFrame(data[1:], columns=data[0])\n",
    "\n",
    "# Extract actor-recipient pairs\n",
    "def extract_actor_recipient_pairs(df):\n",
    "    \"\"\"\n",
    "    Extracts actor-recipient pairs from the DataFrame.\n",
    "    Args:\n",
    "        df (pd.DataFrame): DataFrame containing event data.\n",
    "    Returns:\n",
    "        pd.DataFrame: A DataFrame with actor-recipient pairs, excluding rows with missing values.\n",
    "    \"\"\"\n",
    "    pairs = df.loc[:, [\"Actor Name\", \"Recipient Name\"]]  # Select only the relevant columns\n",
    "    return pairs.dropna()  # Remove rows with missing values\n",
    "\n",
    "# Count the frequency of each actor-recipient pair, excluding pairs with 'None'\n",
    "def get_most_frequent_relations(df):\n",
    "    \"\"\"\n",
    "    Counts the frequency of each actor-recipient pair, excluding relations with 'None'.\n",
    "    Args:\n",
    "        df (pd.DataFrame): DataFrame containing actor-recipient pairs.\n",
    "    Returns:\n",
    "        list: A list of tuples with actor-recipient pairs and their counts, sorted by frequency.\n",
    "    \"\"\"\n",
    "    pairs = extract_actor_recipient_pairs(df)  # Get actor-recipient pairs\n",
    "    \n",
    "    # Convert DataFrame rows to a list of tuples (actor, recipient)\n",
    "    pair_tuples = [\n",
    "        (row[\"Actor Name\"], row[\"Recipient Name\"]) \n",
    "        for _, row in pairs.iterrows()\n",
    "        if 'None' not in row[\"Actor Name\"] and 'None' not in row[\"Recipient Name\"]\n",
    "    ]\n",
    "    \n",
    "    # Count occurrences of each pair\n",
    "    pair_counts = Counter(pair_tuples)\n",
    "    return pair_counts.most_common()  # Return pairs sorted by frequency\n",
    "\n",
    "# Main execution block\n",
    "if __name__ == \"__main__\":\n",
    "    # Specify the path to the text file containing event data\n",
    "    file_path = \"data_original.txt\"\n",
    "\n",
    "    # Load the data into a DataFrame\n",
    "    df = load_data(file_path)\n",
    "\n",
    "    # Get the most frequent actor-recipient pairs\n",
    "    most_frequent_relations = get_most_frequent_relations(df)\n",
    "\n",
    "    # Print results\n",
    "    print(\"Most Frequent Actor-Recipient Pairs (Excluding 'None' relations):\")\n",
    "    for pair, count in most_frequent_relations:\n",
    "        print(f\"{pair}: {count} occurrences\")\n"
   ]
  },
  {
   "cell_type": "markdown",
   "metadata": {},
   "source": [
    "### CREATING TRAINING AND TEST DATASET ( 20+ FREQUENCY PAIRS - 5 pairs in test dataset)"
   ]
  },
  {
   "cell_type": "code",
   "execution_count": 5,
   "metadata": {},
   "outputs": [
    {
     "name": "stderr",
     "output_type": "stream",
     "text": [
      "/var/folders/9m/hdnmjb2s317bp4hpkl0_4qmh0000gn/T/ipykernel_29701/1935914807.py:88: SettingWithCopyWarning: \n",
      "A value is trying to be set on a copy of a slice from a DataFrame.\n",
      "Try using .loc[row_indexer,col_indexer] = value instead\n",
      "\n",
      "See the caveats in the documentation: https://pandas.pydata.org/pandas-docs/stable/user_guide/indexing.html#returning-a-view-versus-a-copy\n",
      "  df[date_column] = pd.to_datetime(df[date_column])\n"
     ]
    }
   ],
   "source": [
    "import pandas as pd\n",
    "from collections import Counter\n",
    "\n",
    "# Load data from a text file\n",
    "def load_data(file_path):\n",
    "    \"\"\"\n",
    "    Reads a tab-delimited text file and loads it into a pandas DataFrame.\n",
    "    Args:\n",
    "        file_path (str): Path to the text file containing event data.\n",
    "    Returns:\n",
    "        pd.DataFrame: A pandas DataFrame with the event data.\n",
    "    \"\"\"\n",
    "    with open(file_path, 'r') as file:\n",
    "        # Read all lines from the file\n",
    "        lines = file.readlines()\n",
    "    \n",
    "    # Split lines into columns using tab as the delimiter\n",
    "    data = [line.strip().split(\"\\t\") for line in lines]\n",
    "    \n",
    "    # Create a DataFrame using the first row as headers\n",
    "    return pd.DataFrame(data[1:], columns=data[0])\n",
    "\n",
    "# Extract actor-recipient pairs\n",
    "def extract_actor_recipient_pairs(df):\n",
    "    \"\"\"\n",
    "    Extracts actor-recipient pairs from the DataFrame.\n",
    "    Args:\n",
    "        df (pd.DataFrame): DataFrame containing event data.\n",
    "    Returns:\n",
    "        pd.DataFrame: A DataFrame with actor-recipient pairs, excluding rows with missing values.\n",
    "    \"\"\"\n",
    "    pairs = df.loc[:, [\"Actor Name\", \"Recipient Name\", \"Event Date\"]]  # Select relevant columns\n",
    "    return pairs.dropna()  # Remove rows with missing values\n",
    "\n",
    "# Count the frequency of each actor-recipient pair, excluding pairs with 'None'\n",
    "def get_most_frequent_relations(df):\n",
    "    \"\"\"\n",
    "    Counts the frequency of each actor-recipient pair, excluding relations with 'None'.\n",
    "    Args:\n",
    "        df (pd.DataFrame): DataFrame containing actor-recipient pairs.\n",
    "    Returns:\n",
    "        dict: A dictionary of actor-recipient pairs with their counts.\n",
    "    \"\"\"\n",
    "    pairs = extract_actor_recipient_pairs(df)  # Get actor-recipient pairs\n",
    "    \n",
    "    # Convert DataFrame rows to a list of tuples (actor, recipient)\n",
    "    pair_tuples = [\n",
    "        (row[\"Actor Name\"], row[\"Recipient Name\"]) \n",
    "        for _, row in pairs.iterrows()\n",
    "        if 'None' not in row[\"Actor Name\"] and 'None' not in row[\"Recipient Name\"]\n",
    "    ]\n",
    "    \n",
    "    # Count occurrences of each pair\n",
    "    pair_counts = Counter(pair_tuples)\n",
    "    return pair_counts  # Return a dictionary of pair counts\n",
    "\n",
    "# Filter the DataFrame for pairs with 50+ occurrences\n",
    "def filter_pairs_by_occurrence(df, pair_counts, min_count=1):\n",
    "    \"\"\"\n",
    "    Filters the DataFrame for actor-recipient pairs that occur 20+ times.\n",
    "    Args:\n",
    "        df (pd.DataFrame): Original DataFrame containing event data.\n",
    "        pair_counts (dict): Dictionary of actor-recipient pairs with their counts.\n",
    "        min_count (int): Minimum count for the pair to be included in the result.\n",
    "    Returns:\n",
    "        pd.DataFrame: A filtered DataFrame with only pairs having 50+ occurrences.\n",
    "    \"\"\"\n",
    "    # Get the pairs that occur at least `min_count` times\n",
    "    valid_pairs = {pair for pair, count in pair_counts.items() if count >= min_count}\n",
    "    \n",
    "    # Filter the original DataFrame to include only these pairs\n",
    "    filtered_df = df[df.apply(\n",
    "        lambda row: (row[\"Actor Name\"], row[\"Recipient Name\"]) in valid_pairs, axis=1)]\n",
    "    \n",
    "    return filtered_df\n",
    "\n",
    "# Sort by date and split the last 5 relations as test, rest as train\n",
    "def split_by_date(df, date_column):\n",
    "    \"\"\"\n",
    "    For each relation type (actor-recipient pair), sort by date and split the last 5 as test.\n",
    "    Args:\n",
    "        df (pd.DataFrame): DataFrame with actor-recipient pairs and event dates.\n",
    "        date_column (str): The column with the event date.\n",
    "    Returns:\n",
    "        pd.DataFrame, pd.DataFrame: The train and test DataFrames.\n",
    "    \"\"\"\n",
    "    # Convert the date column to datetime if it's not already\n",
    "    df[date_column] = pd.to_datetime(df[date_column])\n",
    "    \n",
    "    # List to hold train and test data\n",
    "    train_data = []\n",
    "    test_data = []\n",
    "    \n",
    "    # Group by actor-recipient pairs\n",
    "    grouped = df.groupby([\"Actor Name\", \"Recipient Name\"])\n",
    "    \n",
    "    for (actor, recipient), group in grouped:\n",
    "        # Sort the group by date\n",
    "        group = group.sort_values(by=date_column)\n",
    "        \n",
    "        # Split the last 5 relations as the test set\n",
    "        test_data.append(group.tail(5))\n",
    "        \n",
    "        # All other relations are used for the train set\n",
    "        train_data.append(group.head(len(group) - 5))\n",
    "    \n",
    "    # Concatenate all train and test data\n",
    "    train_df = pd.concat(train_data)\n",
    "    test_df = pd.concat(test_data)\n",
    "    \n",
    "    return train_df, test_df\n",
    "\n",
    "# Main execution block\n",
    "if __name__ == \"__main__\":\n",
    "    # Specify the path to the text file containing event data\n",
    "    file_path = \"../datasets/data_original.txt\"\n",
    "\n",
    "    # Load the data into a DataFrame\n",
    "    df = load_data(file_path)\n",
    "\n",
    "    # Get the most frequent actor-recipient pairs\n",
    "    pair_counts = get_most_frequent_relations(df)\n",
    "\n",
    "    # Filter the DataFrame for pairs that occur 50+ times\n",
    "    filtered_df = filter_pairs_by_occurrence(df, pair_counts, min_count=10)\n",
    "\n",
    "    # Split the data by date, keeping the last 5 events for each relation as test\n",
    "    train_df, test_df = split_by_date(filtered_df, \"Event Date\")\n"
   ]
  },
  {
   "cell_type": "code",
   "execution_count": 7,
   "metadata": {},
   "outputs": [
    {
     "data": {
      "text/plain": [
       "(2710, 855)"
      ]
     },
     "execution_count": 7,
     "metadata": {},
     "output_type": "execute_result"
    }
   ],
   "source": [
    "len(train_df), len(test_df)"
   ]
  },
  {
   "cell_type": "code",
   "execution_count": 8,
   "metadata": {},
   "outputs": [
    {
     "name": "stdout",
     "output_type": "stream",
     "text": [
      "Done\n"
     ]
    }
   ],
   "source": [
    "# Save the DataFrame to a CSV file in the local folder\n",
    "train_df.to_csv('train_data_new3.csv', index=False)\n",
    "test_df.to_csv('test_data_new3.csv', index=False)\n",
    "print(\"Done\")"
   ]
  },
  {
   "cell_type": "code",
   "execution_count": 11,
   "metadata": {},
   "outputs": [
    {
     "data": {
      "text/plain": [
       "Event Type\n",
       "ACCUSE      290\n",
       "THREATEN     80\n",
       "COERCE       78\n",
       "SANCTION     59\n",
       "REQUEST      57\n",
       "ASSAULT      46\n",
       "RETREAT      21\n",
       "CONCEDE      20\n",
       "MOBILIZE     19\n",
       "PROTEST      18\n",
       "CONSULT       1\n",
       "AID           1\n",
       "Name: count, dtype: int64"
      ]
     },
     "execution_count": 11,
     "metadata": {},
     "output_type": "execute_result"
    }
   ],
   "source": [
    "train_df['Event Type'].value_counts()"
   ]
  },
  {
   "cell_type": "code",
   "execution_count": 9,
   "metadata": {},
   "outputs": [
    {
     "name": "stdout",
     "output_type": "stream",
     "text": [
      "Testing Data:\n"
     ]
    },
    {
     "data": {
      "text/html": [
       "<div>\n",
       "<style scoped>\n",
       "    .dataframe tbody tr th:only-of-type {\n",
       "        vertical-align: middle;\n",
       "    }\n",
       "\n",
       "    .dataframe tbody tr th {\n",
       "        vertical-align: top;\n",
       "    }\n",
       "\n",
       "    .dataframe thead th {\n",
       "        text-align: right;\n",
       "    }\n",
       "</style>\n",
       "<table border=\"1\" class=\"dataframe\">\n",
       "  <thead>\n",
       "    <tr style=\"text-align: right;\">\n",
       "      <th></th>\n",
       "      <th>Event ID</th>\n",
       "      <th>Event Date</th>\n",
       "      <th>Event Type</th>\n",
       "      <th>Event Mode</th>\n",
       "      <th>Event Intensity</th>\n",
       "      <th>Quad Code</th>\n",
       "      <th>Contexts</th>\n",
       "      <th>Actor Name</th>\n",
       "      <th>Actor Country</th>\n",
       "      <th>Actor COW</th>\n",
       "      <th>...</th>\n",
       "      <th>GeoNames ID</th>\n",
       "      <th>Raw Placename</th>\n",
       "      <th>Feature Type</th>\n",
       "      <th>Source</th>\n",
       "      <th>Publication Date</th>\n",
       "      <th>Story People</th>\n",
       "      <th>Story Organizations</th>\n",
       "      <th>Story Locations</th>\n",
       "      <th>Language</th>\n",
       "      <th>Version</th>\n",
       "    </tr>\n",
       "  </thead>\n",
       "  <tbody>\n",
       "    <tr>\n",
       "      <th>2641</th>\n",
       "      <td>20240528-6755-11854c072b7a_THREATEN</td>\n",
       "      <td>2024-05-28</td>\n",
       "      <td>THREATEN</td>\n",
       "      <td>None</td>\n",
       "      <td>-3.50</td>\n",
       "      <td>VERBAL CONFLICT</td>\n",
       "      <td>military | terrorism</td>\n",
       "      <td>Benjamin Netanyahu</td>\n",
       "      <td>Israel</td>\n",
       "      <td>666</td>\n",
       "      <td>...</td>\n",
       "      <td>281102</td>\n",
       "      <td>Rafah</td>\n",
       "      <td>PPLA2</td>\n",
       "      <td>Evening Standard</td>\n",
       "      <td>2024-05-28</td>\n",
       "      <td>BENJAMIN NETANYAHU</td>\n",
       "      <td>the Palestinian Red Crescent | UN | Hamas | Th...</td>\n",
       "      <td>Ireland | Gaza Strip | Rafaḩ | State of Israel</td>\n",
       "      <td>English</td>\n",
       "      <td>NGEC_coder-Vers001-b1-Run-001</td>\n",
       "    </tr>\n",
       "    <tr>\n",
       "      <th>7692</th>\n",
       "      <td>20240601-5863-95272a49f7df_REQUEST</td>\n",
       "      <td>2024-06-01</td>\n",
       "      <td>REQUEST</td>\n",
       "      <td>None</td>\n",
       "      <td>0.00</td>\n",
       "      <td>VERBAL CONFLICT</td>\n",
       "      <td>military | terrorism</td>\n",
       "      <td>Benjamin Netanyahu</td>\n",
       "      <td>Israel</td>\n",
       "      <td>666</td>\n",
       "      <td>...</td>\n",
       "      <td>272103</td>\n",
       "      <td>Lebanon</td>\n",
       "      <td>PCLI</td>\n",
       "      <td>Al Jazeera English</td>\n",
       "      <td>2024-06-01</td>\n",
       "      <td>Joe Biden | Benjamin Netanyahu | Biden</td>\n",
       "      <td>Hamas | Hezbollah</td>\n",
       "      <td>Gaza Strip | Lebanon | United States | State o...</td>\n",
       "      <td>English</td>\n",
       "      <td>NGEC_coder-Vers001-b1-Run-001</td>\n",
       "    </tr>\n",
       "    <tr>\n",
       "      <th>7595</th>\n",
       "      <td>20240601-5418-f85a7f0c50c4_REQUEST</td>\n",
       "      <td>2024-06-01</td>\n",
       "      <td>REQUEST</td>\n",
       "      <td>None</td>\n",
       "      <td>0.00</td>\n",
       "      <td>VERBAL CONFLICT</td>\n",
       "      <td>terrorism</td>\n",
       "      <td>Benjamin Netanyahu</td>\n",
       "      <td>Israel</td>\n",
       "      <td>666</td>\n",
       "      <td>...</td>\n",
       "      <td>None</td>\n",
       "      <td>Joe Biden</td>\n",
       "      <td>None</td>\n",
       "      <td>Agence France Presse</td>\n",
       "      <td>2024-06-01</td>\n",
       "      <td>Benjamin Netanyahu | Netanyahu | Biden | Joe B...</td>\n",
       "      <td>Hamas</td>\n",
       "      <td>United States | Gaza Province | State of Israel</td>\n",
       "      <td>English</td>\n",
       "      <td>NGEC_coder-Vers001-b1-Run-001</td>\n",
       "    </tr>\n",
       "    <tr>\n",
       "      <th>184220</th>\n",
       "      <td>20240624-6038-ed29ffa8bec4_THREATEN</td>\n",
       "      <td>2024-06-24</td>\n",
       "      <td>THREATEN</td>\n",
       "      <td>None</td>\n",
       "      <td>-3.50</td>\n",
       "      <td>VERBAL CONFLICT</td>\n",
       "      <td>terrorism</td>\n",
       "      <td>Benjamin Netanyahu</td>\n",
       "      <td>Israel</td>\n",
       "      <td>666</td>\n",
       "      <td>...</td>\n",
       "      <td>None</td>\n",
       "      <td>Gaza Strip</td>\n",
       "      <td>None</td>\n",
       "      <td>EFE News Service</td>\n",
       "      <td>2024-06-24</td>\n",
       "      <td>Joe Biden | Benjamin Netanyahu | Netanyahu</td>\n",
       "      <td>Channel 14 | Hamas | Security Council | Hezbol...</td>\n",
       "      <td>United States | Lebanon | State of Israel</td>\n",
       "      <td>English</td>\n",
       "      <td>NGEC_coder-Vers001-b1-Run-001</td>\n",
       "    </tr>\n",
       "    <tr>\n",
       "      <th>185080</th>\n",
       "      <td>20240625-4243-814143fbea89_REQUEST</td>\n",
       "      <td>2024-06-25</td>\n",
       "      <td>REQUEST</td>\n",
       "      <td>None</td>\n",
       "      <td>0.00</td>\n",
       "      <td>VERBAL CONFLICT</td>\n",
       "      <td>military | terrorism</td>\n",
       "      <td>Benjamin Netanyahu</td>\n",
       "      <td>Israel</td>\n",
       "      <td>666</td>\n",
       "      <td>...</td>\n",
       "      <td>294640</td>\n",
       "      <td>Israel</td>\n",
       "      <td>PCLI</td>\n",
       "      <td>USA Today</td>\n",
       "      <td>2024-06-25</td>\n",
       "      <td>Biden | Joe Biden | Netanyahu</td>\n",
       "      <td>Channel 14 | Hamas | the U.N. Security Council...</td>\n",
       "      <td>Lebanon | Gaza Strip | Islamic Republic of Ira...</td>\n",
       "      <td>English</td>\n",
       "      <td>NGEC_coder-Vers001-b1-Run-001</td>\n",
       "    </tr>\n",
       "  </tbody>\n",
       "</table>\n",
       "<p>5 rows × 40 columns</p>\n",
       "</div>"
      ],
      "text/plain": [
       "                                   Event ID Event Date Event Type Event Mode  \\\n",
       "2641    20240528-6755-11854c072b7a_THREATEN 2024-05-28   THREATEN       None   \n",
       "7692     20240601-5863-95272a49f7df_REQUEST 2024-06-01    REQUEST       None   \n",
       "7595     20240601-5418-f85a7f0c50c4_REQUEST 2024-06-01    REQUEST       None   \n",
       "184220  20240624-6038-ed29ffa8bec4_THREATEN 2024-06-24   THREATEN       None   \n",
       "185080   20240625-4243-814143fbea89_REQUEST 2024-06-25    REQUEST       None   \n",
       "\n",
       "       Event Intensity        Quad Code               Contexts  \\\n",
       "2641             -3.50  VERBAL CONFLICT  military | terrorism    \n",
       "7692              0.00  VERBAL CONFLICT  military | terrorism    \n",
       "7595              0.00  VERBAL CONFLICT             terrorism    \n",
       "184220           -3.50  VERBAL CONFLICT             terrorism    \n",
       "185080            0.00  VERBAL CONFLICT  military | terrorism    \n",
       "\n",
       "                Actor Name Actor Country Actor COW  ... GeoNames ID  \\\n",
       "2641    Benjamin Netanyahu        Israel       666  ...      281102   \n",
       "7692    Benjamin Netanyahu        Israel       666  ...      272103   \n",
       "7595    Benjamin Netanyahu        Israel       666  ...        None   \n",
       "184220  Benjamin Netanyahu        Israel       666  ...        None   \n",
       "185080  Benjamin Netanyahu        Israel       666  ...      294640   \n",
       "\n",
       "       Raw Placename Feature Type                Source Publication Date  \\\n",
       "2641           Rafah        PPLA2      Evening Standard       2024-05-28   \n",
       "7692         Lebanon         PCLI    Al Jazeera English       2024-06-01   \n",
       "7595       Joe Biden         None  Agence France Presse       2024-06-01   \n",
       "184220    Gaza Strip         None      EFE News Service       2024-06-24   \n",
       "185080        Israel         PCLI             USA Today       2024-06-25   \n",
       "\n",
       "                                             Story People  \\\n",
       "2641                                  BENJAMIN NETANYAHU    \n",
       "7692              Joe Biden | Benjamin Netanyahu | Biden    \n",
       "7595    Benjamin Netanyahu | Netanyahu | Biden | Joe B...   \n",
       "184220        Joe Biden | Benjamin Netanyahu | Netanyahu    \n",
       "185080                     Biden | Joe Biden | Netanyahu    \n",
       "\n",
       "                                      Story Organizations  \\\n",
       "2641    the Palestinian Red Crescent | UN | Hamas | Th...   \n",
       "7692                                   Hamas | Hezbollah    \n",
       "7595                                               Hamas    \n",
       "184220  Channel 14 | Hamas | Security Council | Hezbol...   \n",
       "185080  Channel 14 | Hamas | the U.N. Security Council...   \n",
       "\n",
       "                                          Story Locations Language  \\\n",
       "2641      Ireland | Gaza Strip | Rafaḩ | State of Israel   English   \n",
       "7692    Gaza Strip | Lebanon | United States | State o...  English   \n",
       "7595     United States | Gaza Province | State of Israel   English   \n",
       "184220         United States | Lebanon | State of Israel   English   \n",
       "185080  Lebanon | Gaza Strip | Islamic Republic of Ira...  English   \n",
       "\n",
       "                              Version  \n",
       "2641    NGEC_coder-Vers001-b1-Run-001  \n",
       "7692    NGEC_coder-Vers001-b1-Run-001  \n",
       "7595    NGEC_coder-Vers001-b1-Run-001  \n",
       "184220  NGEC_coder-Vers001-b1-Run-001  \n",
       "185080  NGEC_coder-Vers001-b1-Run-001  \n",
       "\n",
       "[5 rows x 40 columns]"
      ]
     },
     "execution_count": 9,
     "metadata": {},
     "output_type": "execute_result"
    }
   ],
   "source": [
    "print(\"Testing Data:\")\n",
    "test_df.head()"
   ]
  },
  {
   "cell_type": "code",
   "execution_count": 10,
   "metadata": {},
   "outputs": [
    {
     "name": "stdout",
     "output_type": "stream",
     "text": [
      "Testing Data saved\n"
     ]
    }
   ],
   "source": [
    "# Save the DataFrame to a CSV file in the local folder\n",
    "test_df.to_csv('test_data.csv', index=False)\n",
    "print(\"Testing Data saved\")"
   ]
  },
  {
   "cell_type": "code",
   "execution_count": null,
   "metadata": {},
   "outputs": [],
   "source": []
  },
  {
   "cell_type": "code",
   "execution_count": null,
   "metadata": {},
   "outputs": [],
   "source": []
  },
  {
   "cell_type": "code",
   "execution_count": null,
   "metadata": {},
   "outputs": [],
   "source": []
  },
  {
   "cell_type": "code",
   "execution_count": null,
   "metadata": {},
   "outputs": [],
   "source": []
  },
  {
   "cell_type": "code",
   "execution_count": null,
   "metadata": {},
   "outputs": [],
   "source": []
  },
  {
   "cell_type": "code",
   "execution_count": null,
   "metadata": {},
   "outputs": [],
   "source": []
  },
  {
   "cell_type": "code",
   "execution_count": null,
   "metadata": {},
   "outputs": [],
   "source": []
  },
  {
   "cell_type": "code",
   "execution_count": null,
   "metadata": {},
   "outputs": [],
   "source": []
  },
  {
   "cell_type": "code",
   "execution_count": null,
   "metadata": {},
   "outputs": [],
   "source": []
  },
  {
   "cell_type": "code",
   "execution_count": null,
   "metadata": {},
   "outputs": [],
   "source": []
  },
  {
   "cell_type": "code",
   "execution_count": null,
   "metadata": {},
   "outputs": [],
   "source": []
  }
 ],
 "metadata": {
  "kernelspec": {
   "display_name": "Python 3",
   "language": "python",
   "name": "python3"
  },
  "language_info": {
   "codemirror_mode": {
    "name": "ipython",
    "version": 3
   },
   "file_extension": ".py",
   "mimetype": "text/x-python",
   "name": "python",
   "nbconvert_exporter": "python",
   "pygments_lexer": "ipython3",
   "version": "3.12.3"
  }
 },
 "nbformat": 4,
 "nbformat_minor": 2
}
